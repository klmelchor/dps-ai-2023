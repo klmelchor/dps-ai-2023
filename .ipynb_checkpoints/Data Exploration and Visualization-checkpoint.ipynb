{
 "cells": [
  {
   "cell_type": "code",
   "execution_count": 1,
   "id": "3a166885",
   "metadata": {},
   "outputs": [],
   "source": [
    "import numpy as np\n",
    "import pandas as pd\n",
    "import seaborn as sns\n",
    "import matplotlib.pyplot as plt\n",
    "from matplotlib.pyplot import figure"
   ]
  },
  {
   "cell_type": "code",
   "execution_count": 2,
   "id": "7bef12f1",
   "metadata": {},
   "outputs": [
    {
     "data": {
      "text/html": [
       "<div>\n",
       "<style scoped>\n",
       "    .dataframe tbody tr th:only-of-type {\n",
       "        vertical-align: middle;\n",
       "    }\n",
       "\n",
       "    .dataframe tbody tr th {\n",
       "        vertical-align: top;\n",
       "    }\n",
       "\n",
       "    .dataframe thead th {\n",
       "        text-align: right;\n",
       "    }\n",
       "</style>\n",
       "<table border=\"1\" class=\"dataframe\">\n",
       "  <thead>\n",
       "    <tr style=\"text-align: right;\">\n",
       "      <th></th>\n",
       "      <th>MONATSZAHL</th>\n",
       "      <th>AUSPRÄGUNG</th>\n",
       "      <th>JAHR</th>\n",
       "      <th>MONAT</th>\n",
       "      <th>WERT</th>\n",
       "      <th>VORJAHRESWERT</th>\n",
       "      <th>VERÄND_VORMONAT_PROZENT</th>\n",
       "      <th>VERÄND_VORJAHRESMONAT_PROZENT</th>\n",
       "      <th>ZWÖLF_MONATE_MITTELWERT</th>\n",
       "    </tr>\n",
       "  </thead>\n",
       "  <tbody>\n",
       "    <tr>\n",
       "      <th>0</th>\n",
       "      <td>Alkoholunfälle</td>\n",
       "      <td>insgesamt</td>\n",
       "      <td>2022</td>\n",
       "      <td>202201</td>\n",
       "      <td>NaN</td>\n",
       "      <td>16.0</td>\n",
       "      <td>NaN</td>\n",
       "      <td>NaN</td>\n",
       "      <td>NaN</td>\n",
       "    </tr>\n",
       "    <tr>\n",
       "      <th>1</th>\n",
       "      <td>Alkoholunfälle</td>\n",
       "      <td>insgesamt</td>\n",
       "      <td>2022</td>\n",
       "      <td>202202</td>\n",
       "      <td>NaN</td>\n",
       "      <td>14.0</td>\n",
       "      <td>NaN</td>\n",
       "      <td>NaN</td>\n",
       "      <td>NaN</td>\n",
       "    </tr>\n",
       "    <tr>\n",
       "      <th>2</th>\n",
       "      <td>Alkoholunfälle</td>\n",
       "      <td>insgesamt</td>\n",
       "      <td>2022</td>\n",
       "      <td>202203</td>\n",
       "      <td>NaN</td>\n",
       "      <td>24.0</td>\n",
       "      <td>NaN</td>\n",
       "      <td>NaN</td>\n",
       "      <td>NaN</td>\n",
       "    </tr>\n",
       "    <tr>\n",
       "      <th>3</th>\n",
       "      <td>Alkoholunfälle</td>\n",
       "      <td>insgesamt</td>\n",
       "      <td>2022</td>\n",
       "      <td>202204</td>\n",
       "      <td>NaN</td>\n",
       "      <td>16.0</td>\n",
       "      <td>NaN</td>\n",
       "      <td>NaN</td>\n",
       "      <td>NaN</td>\n",
       "    </tr>\n",
       "    <tr>\n",
       "      <th>4</th>\n",
       "      <td>Alkoholunfälle</td>\n",
       "      <td>insgesamt</td>\n",
       "      <td>2022</td>\n",
       "      <td>202205</td>\n",
       "      <td>NaN</td>\n",
       "      <td>24.0</td>\n",
       "      <td>NaN</td>\n",
       "      <td>NaN</td>\n",
       "      <td>NaN</td>\n",
       "    </tr>\n",
       "  </tbody>\n",
       "</table>\n",
       "</div>"
      ],
      "text/plain": [
       "       MONATSZAHL AUSPRÄGUNG  JAHR   MONAT  WERT  VORJAHRESWERT  \\\n",
       "0  Alkoholunfälle  insgesamt  2022  202201   NaN           16.0   \n",
       "1  Alkoholunfälle  insgesamt  2022  202202   NaN           14.0   \n",
       "2  Alkoholunfälle  insgesamt  2022  202203   NaN           24.0   \n",
       "3  Alkoholunfälle  insgesamt  2022  202204   NaN           16.0   \n",
       "4  Alkoholunfälle  insgesamt  2022  202205   NaN           24.0   \n",
       "\n",
       "   VERÄND_VORMONAT_PROZENT  VERÄND_VORJAHRESMONAT_PROZENT  \\\n",
       "0                      NaN                            NaN   \n",
       "1                      NaN                            NaN   \n",
       "2                      NaN                            NaN   \n",
       "3                      NaN                            NaN   \n",
       "4                      NaN                            NaN   \n",
       "\n",
       "   ZWÖLF_MONATE_MITTELWERT  \n",
       "0                      NaN  \n",
       "1                      NaN  \n",
       "2                      NaN  \n",
       "3                      NaN  \n",
       "4                      NaN  "
      ]
     },
     "execution_count": 2,
     "metadata": {},
     "output_type": "execute_result"
    }
   ],
   "source": [
    "# load the data and check first few entries\n",
    "df = pd.read_csv('monatszahlen2209_verkehrsunfaelle.csv')\n",
    "df.head()"
   ]
  },
  {
   "cell_type": "code",
   "execution_count": 3,
   "id": "3ce3a69b",
   "metadata": {},
   "outputs": [
    {
     "data": {
      "text/plain": [
       "['MONATSZAHL',\n",
       " 'AUSPRÄGUNG',\n",
       " 'JAHR',\n",
       " 'MONAT',\n",
       " 'WERT',\n",
       " 'VORJAHRESWERT',\n",
       " 'VERÄND_VORMONAT_PROZENT',\n",
       " 'VERÄND_VORJAHRESMONAT_PROZENT',\n",
       " 'ZWÖLF_MONATE_MITTELWERT']"
      ]
     },
     "execution_count": 3,
     "metadata": {},
     "output_type": "execute_result"
    }
   ],
   "source": [
    "# get the list of column names (this would be helpful later)\n",
    "df_colnames = list(df.columns)\n",
    "df_colnames"
   ]
  },
  {
   "cell_type": "code",
   "execution_count": 4,
   "id": "9690077e",
   "metadata": {},
   "outputs": [
    {
     "data": {
      "text/plain": [
       "array(['Alkoholunfälle', 'Fluchtunfälle', 'Verkehrsunfälle'], dtype=object)"
      ]
     },
     "execution_count": 4,
     "metadata": {},
     "output_type": "execute_result"
    }
   ],
   "source": [
    "# find all the unique accident categories\n",
    "accident_cats = df['MONATSZAHL'].unique()\n",
    "accident_cats"
   ]
  },
  {
   "cell_type": "code",
   "execution_count": 5,
   "id": "219e4799",
   "metadata": {},
   "outputs": [
    {
     "data": {
      "text/html": [
       "<div>\n",
       "<style scoped>\n",
       "    .dataframe tbody tr th:only-of-type {\n",
       "        vertical-align: middle;\n",
       "    }\n",
       "\n",
       "    .dataframe tbody tr th {\n",
       "        vertical-align: top;\n",
       "    }\n",
       "\n",
       "    .dataframe thead th {\n",
       "        text-align: right;\n",
       "    }\n",
       "</style>\n",
       "<table border=\"1\" class=\"dataframe\">\n",
       "  <thead>\n",
       "    <tr style=\"text-align: right;\">\n",
       "      <th></th>\n",
       "      <th>index</th>\n",
       "      <th>MONATSZAHL</th>\n",
       "      <th>AUSPRÄGUNG</th>\n",
       "      <th>JAHR</th>\n",
       "      <th>MONAT</th>\n",
       "      <th>WERT</th>\n",
       "      <th>VORJAHRESWERT</th>\n",
       "      <th>VERÄND_VORMONAT_PROZENT</th>\n",
       "      <th>VERÄND_VORJAHRESMONAT_PROZENT</th>\n",
       "      <th>ZWÖLF_MONATE_MITTELWERT</th>\n",
       "    </tr>\n",
       "  </thead>\n",
       "  <tbody>\n",
       "    <tr>\n",
       "      <th>0</th>\n",
       "      <td>12</td>\n",
       "      <td>Alkoholunfälle</td>\n",
       "      <td>insgesamt</td>\n",
       "      <td>2021</td>\n",
       "      <td>Summe</td>\n",
       "      <td>383.0</td>\n",
       "      <td>430.0</td>\n",
       "      <td>NaN</td>\n",
       "      <td>-10.93</td>\n",
       "      <td>NaN</td>\n",
       "    </tr>\n",
       "    <tr>\n",
       "      <th>1</th>\n",
       "      <td>25</td>\n",
       "      <td>Alkoholunfälle</td>\n",
       "      <td>insgesamt</td>\n",
       "      <td>2020</td>\n",
       "      <td>Summe</td>\n",
       "      <td>430.0</td>\n",
       "      <td>434.0</td>\n",
       "      <td>NaN</td>\n",
       "      <td>-0.92</td>\n",
       "      <td>NaN</td>\n",
       "    </tr>\n",
       "    <tr>\n",
       "      <th>2</th>\n",
       "      <td>38</td>\n",
       "      <td>Alkoholunfälle</td>\n",
       "      <td>insgesamt</td>\n",
       "      <td>2019</td>\n",
       "      <td>Summe</td>\n",
       "      <td>434.0</td>\n",
       "      <td>398.0</td>\n",
       "      <td>NaN</td>\n",
       "      <td>9.05</td>\n",
       "      <td>NaN</td>\n",
       "    </tr>\n",
       "    <tr>\n",
       "      <th>3</th>\n",
       "      <td>51</td>\n",
       "      <td>Alkoholunfälle</td>\n",
       "      <td>insgesamt</td>\n",
       "      <td>2018</td>\n",
       "      <td>Summe</td>\n",
       "      <td>398.0</td>\n",
       "      <td>409.0</td>\n",
       "      <td>NaN</td>\n",
       "      <td>-2.69</td>\n",
       "      <td>NaN</td>\n",
       "    </tr>\n",
       "    <tr>\n",
       "      <th>4</th>\n",
       "      <td>64</td>\n",
       "      <td>Alkoholunfälle</td>\n",
       "      <td>insgesamt</td>\n",
       "      <td>2017</td>\n",
       "      <td>Summe</td>\n",
       "      <td>409.0</td>\n",
       "      <td>301.0</td>\n",
       "      <td>NaN</td>\n",
       "      <td>35.88</td>\n",
       "      <td>NaN</td>\n",
       "    </tr>\n",
       "  </tbody>\n",
       "</table>\n",
       "</div>"
      ],
      "text/plain": [
       "   index      MONATSZAHL AUSPRÄGUNG  JAHR  MONAT   WERT  VORJAHRESWERT  \\\n",
       "0     12  Alkoholunfälle  insgesamt  2021  Summe  383.0          430.0   \n",
       "1     25  Alkoholunfälle  insgesamt  2020  Summe  430.0          434.0   \n",
       "2     38  Alkoholunfälle  insgesamt  2019  Summe  434.0          398.0   \n",
       "3     51  Alkoholunfälle  insgesamt  2018  Summe  398.0          409.0   \n",
       "4     64  Alkoholunfälle  insgesamt  2017  Summe  409.0          301.0   \n",
       "\n",
       "   VERÄND_VORMONAT_PROZENT  VERÄND_VORJAHRESMONAT_PROZENT  \\\n",
       "0                      NaN                         -10.93   \n",
       "1                      NaN                          -0.92   \n",
       "2                      NaN                           9.05   \n",
       "3                      NaN                          -2.69   \n",
       "4                      NaN                          35.88   \n",
       "\n",
       "   ZWÖLF_MONATE_MITTELWERT  \n",
       "0                      NaN  \n",
       "1                      NaN  \n",
       "2                      NaN  \n",
       "3                      NaN  \n",
       "4                      NaN  "
      ]
     },
     "execution_count": 5,
     "metadata": {},
     "output_type": "execute_result"
    }
   ],
   "source": [
    "# looking at the 'MONAT' column, we can see that rows with values that are 'Summe' reflect the sum of accidents per\n",
    "# year for each category. we also only want 'insgesamt' since this reflects the total \n",
    "\n",
    "acc_subset = df[(df['MONATSZAHL'] == accident_cats[0]) & (df['MONAT'] == 'Summe') \n",
    "                & (df['AUSPRÄGUNG'] == 'insgesamt')].reset_index()\n",
    "acc_subset.head()"
   ]
  },
  {
   "cell_type": "code",
   "execution_count": 20,
   "id": "bd034e1e",
   "metadata": {},
   "outputs": [
    {
     "data": {
      "image/png": "[encoded data removed]",
      "text/plain": [
       "<Figure size 1000x600 with 1 Axes>"
      ]
     },
     "metadata": {},
     "output_type": "display_data"
    }
   ],
   "source": [
    "# plot the yearly totals per category\n",
    "\n",
    "sns.set(style=\"ticks\")\n",
    "figure(figsize=(10, 6), dpi=100)\n",
    "\n",
    "plt.subplots(1,3)\n",
    "for acc in accident_cats:\n",
    "    l_plot = sns.lineplot(data=acc_subset, x='JAHR', y='WERT', marker='*', linewidth=2, markersize=10)\n",
    "\n",
    "    plot_name = 'Total Number of ' + acc + ' Accidents per Year'\n",
    "    l_plot.set(title=plot_name)\n",
    "\n",
    "    for x, y in zip(acc_subset['JAHR'], acc_subset['WERT']):\n",
    "        plt.text(x = x+0.5, y = y-10, s = '{:.0f}'.format(y), color='black', fontsize=10)\n",
    "\n",
    "    plt.xticks(np.arange(2000, 2021, 2.0))\n",
    "    plt.grid()"
   ]
  },
  {
   "cell_type": "code",
   "execution_count": null,
   "id": "347de087",
   "metadata": {},
   "outputs": [],
   "source": []
  },
  {
   "cell_type": "code",
   "execution_count": null,
   "id": "91e2fe95",
   "metadata": {},
   "outputs": [],
   "source": []
  }
 ],
 "metadata": {
  "kernelspec": {
   "display_name": "Python 3 (ipykernel)",
   "language": "python",
   "name": "python3"
  },
  "language_info": {
   "codemirror_mode": {
    "name": "ipython",
    "version": 3
   },
   "file_extension": ".py",
   "mimetype": "text/x-python",
   "name": "python",
   "nbconvert_exporter": "python",
   "pygments_lexer": "ipython3",
   "version": "3.8.16"
  }
 },
 "nbformat": 4,
 "nbformat_minor": 5
}
